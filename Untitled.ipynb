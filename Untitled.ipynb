{
 "cells": [
  {
   "cell_type": "code",
   "execution_count": 1,
   "id": "b4ba0b00",
   "metadata": {},
   "outputs": [
    {
     "name": "stderr",
     "output_type": "stream",
     "text": [
      "2023-02-27 17:01:49.490 INFO    numexpr.utils: NumExpr defaulting to 4 threads.\n",
      "2023-02-27 17:01:53.300 \n",
      "  \u001b[33m\u001b[1mWarning:\u001b[0m to view this Streamlit app on a browser, run it with the following\n",
      "  command:\n",
      "\n",
      "    streamlit run C:\\ProgramData\\Anaconda3\\lib\\site-packages\\ipykernel_launcher.py [ARGUMENTS]\n"
     ]
    }
   ],
   "source": [
    "import streamlit as st\n",
    "header=st.beta_container()\n",
    "dataset=st.beta_container()\n",
    "features=st.beta_container()\n",
    "model_Training=st.beta_container()\n",
    "with header:\n",
    "    st.title(\"Welcome to my awesome data science Project\")\n"
   ]
  },
  {
   "cell_type": "code",
   "execution_count": 28,
   "id": "5c70c5a4",
   "metadata": {},
   "outputs": [
    {
     "data": {
      "text/plain": [
       "0.99"
      ]
     },
     "execution_count": 28,
     "metadata": {},
     "output_type": "execute_result"
    }
   ],
   "source": [
    "import numpy as np\n",
    "date,temperature=np.loadtxt('annual_Mean_Temperatures.txt',usecols=(1,2),skiprows=1,unpack=True)\n",
    "y=temperature\n",
    "x=date\n",
    "temperature.min()\n",
    "temperature.max()"
   ]
  },
  {
   "cell_type": "code",
   "execution_count": 29,
   "id": "d1965bad",
   "metadata": {},
   "outputs": [],
   "source": [
    "%matplotlib inline"
   ]
  },
  {
   "cell_type": "code",
   "execution_count": 3,
   "id": "d8796189",
   "metadata": {},
   "outputs": [
    {
     "data": {
      "text/plain": [
       "Text(0.5, 1.0, 'Plot of Temperatures Over the Years')"
      ]
     },
     "execution_count": 3,
     "metadata": {},
     "output_type": "execute_result"
    },
    {
     "data": {
      "image/png": "[encoded data removed]",
      "text/plain": [
       "<Figure size 432x288 with 1 Axes>"
      ]
     },
     "metadata": {
      "needs_background": "light"
     },
     "output_type": "display_data"
    }
   ],
   "source": [
    "import matplotlib.pyplot as plt\n",
    "plt.plot(x,y,'.')\n",
    "plt.xlabel(\"Time in Years\")\n",
    "plt.ylabel(\"Annual Average temperature\")\n",
    "plt.title(\"Plot of Temperatures Over the Years\")"
   ]
  },
  {
   "cell_type": "code",
   "execution_count": 4,
   "id": "a7fa43e2",
   "metadata": {},
   "outputs": [],
   "source": [
    "# y1=f(t)=a cost(2pi*t+b)+c"
   ]
  },
  {
   "cell_type": "code",
   "execution_count": 5,
   "id": "4ac26773",
   "metadata": {},
   "outputs": [],
   "source": [
    "def line(x,a,b):\n",
    "    return a*x+b"
   ]
  },
  {
   "cell_type": "code",
   "execution_count": 30,
   "id": "6e4c8218",
   "metadata": {},
   "outputs": [
    {
     "data": {
      "text/plain": [
       "array([ 6.98722768e-03, -1.35745316e+01])"
      ]
     },
     "execution_count": 30,
     "metadata": {},
     "output_type": "execute_result"
    }
   ],
   "source": [
    "from scipy.optimize import curve_fit\n",
    "popt,pcov=curve_fit(line,x,y,sigma=e)\n",
    "popt"
   ]
  },
  {
   "cell_type": "code",
   "execution_count": 31,
   "id": "e83196be",
   "metadata": {},
   "outputs": [
    {
     "data": {
      "text/plain": [
       "array([[ 6.04443224e-08, -1.17745540e-04],\n",
       "       [-1.17745540e-04,  2.29462846e-01]])"
      ]
     },
     "execution_count": 31,
     "metadata": {},
     "output_type": "execute_result"
    }
   ],
   "source": [
    "pcov"
   ]
  },
  {
   "cell_type": "code",
   "execution_count": 8,
   "id": "5b711b75",
   "metadata": {},
   "outputs": [
    {
     "data": {
      "text/plain": [
       "array([0.5, 0.5, 0.5, 0.5, 0.5, 0.5, 0.5, 0.5, 0.5, 0.5, 0.5, 0.5, 0.5,\n",
       "       0.5, 0.5, 0.5, 0.5, 0.5, 0.5, 0.5, 0.5, 0.5, 0.5, 0.5, 0.5, 0.5,\n",
       "       0.5, 0.5, 0.5, 0.5, 0.5, 0.5, 0.5, 0.5, 0.5, 0.5, 0.5, 0.5, 0.5,\n",
       "       0.5, 0.5, 0.5, 0.5, 0.5, 0.5, 0.5, 0.5, 0.5, 0.5, 0.5, 0.5, 0.5,\n",
       "       0.5, 0.5, 0.5, 0.5, 0.5, 0.5, 0.5, 0.5, 0.5, 0.5, 0.5, 0.5, 0.5,\n",
       "       0.5, 0.5, 0.5, 0.5, 0.5, 0.5, 0.5, 0.5, 0.5, 0.5, 0.5, 0.5, 0.5,\n",
       "       0.5, 0.5, 0.5, 0.5, 0.5, 0.5, 0.5, 0.5, 0.5, 0.5, 0.5, 0.5, 0.5,\n",
       "       0.5, 0.5, 0.5, 0.5, 0.5, 0.5, 0.5, 0.5, 0.5, 0.5, 0.5, 0.5, 0.5,\n",
       "       0.5, 0.5, 0.5, 0.5, 0.5, 0.5, 0.5, 0.5, 0.5, 0.5, 0.5, 0.5, 0.5,\n",
       "       0.5, 0.5, 0.5, 0.5, 0.5, 0.5, 0.5, 0.5, 0.5, 0.5, 0.5, 0.5, 0.5,\n",
       "       0.5, 0.5, 0.5, 0.5, 0.5, 0.5, 0.5, 0.5, 0.5, 0.5, 0.5, 0.5, 0.5,\n",
       "       0.5, 0.5, 0.5, 0.5, 0.5, 0.5, 0.5, 0.5, 0.5, 0.5, 0.5, 0.5, 0.5,\n",
       "       0.5, 0.5, 0.5, 0.5, 0.5, 0.5, 0.5, 0.5, 0.5, 0.5, 0.5, 0.5, 0.5,\n",
       "       0.5, 0.5, 0.5, 0.5, 0.5, 0.5, 0.5, 0.5, 0.5, 0.5, 0.5, 0.5, 0.5,\n",
       "       0.5, 0.5, 0.5, 0.5, 0.5, 0.5, 0.5, 0.5, 0.5, 0.5, 0.5, 0.5, 0.5,\n",
       "       0.5, 0.5, 0.5, 0.5, 0.5, 0.5, 0.5, 0.5, 0.5, 0.5, 0.5, 0.5, 0.5,\n",
       "       0.5, 0.5, 0.5, 0.5, 0.5, 0.5, 0.5, 0.5, 0.5, 0.5, 0.5, 0.5, 0.5,\n",
       "       0.5, 0.5, 0.5, 0.5, 0.5, 0.5, 0.5, 0.5, 0.5, 0.5, 0.5, 0.5, 0.5,\n",
       "       0.5, 0.5, 0.5, 0.5, 0.5, 0.5, 0.5, 0.5, 0.5, 0.5, 0.5, 0.5, 0.5,\n",
       "       0.5, 0.5, 0.5, 0.5, 0.5, 0.5, 0.5, 0.5, 0.5, 0.5, 0.5, 0.5, 0.5,\n",
       "       0.5, 0.5, 0.5, 0.5, 0.5, 0.5, 0.5, 0.5, 0.5, 0.5, 0.5, 0.5, 0.5,\n",
       "       0.5])"
      ]
     },
     "execution_count": 8,
     "metadata": {},
     "output_type": "execute_result"
    }
   ],
   "source": [
    "e=np.repeat(.5,274)\n",
    "e"
   ]
  },
  {
   "cell_type": "code",
   "execution_count": 32,
   "id": "a9e61d7b",
   "metadata": {},
   "outputs": [
    {
     "data": {
      "text/plain": [
       "<ErrorbarContainer object of 3 artists>"
      ]
     },
     "execution_count": 32,
     "metadata": {},
     "output_type": "execute_result"
    },
    {
     "data": {
      "image/png": "[encoded data removed]",
      "text/plain": [
       "<Figure size 432x288 with 1 Axes>"
      ]
     },
     "metadata": {
      "needs_background": "light"
     },
     "output_type": "display_data"
    }
   ],
   "source": [
    "plt.errorbar(y,x,yerr=e,fmt='.')"
   ]
  },
  {
   "cell_type": "code",
   "execution_count": 10,
   "id": "fddf8413",
   "metadata": {},
   "outputs": [
    {
     "data": {
      "text/plain": [
       "array([ 6.98722768e-03, -1.35745316e+01])"
      ]
     },
     "execution_count": 10,
     "metadata": {},
     "output_type": "execute_result"
    }
   ],
   "source": [
    "popt,pcov=curve_fit(line,x,y,sigma=e)\n",
    "popt"
   ]
  },
  {
   "cell_type": "code",
   "execution_count": 11,
   "id": "2f753144",
   "metadata": {},
   "outputs": [
    {
     "data": {
      "text/plain": [
       "array([[ 6.04443224e-08, -1.17745540e-04],\n",
       "       [-1.17745540e-04,  2.29462846e-01]])"
      ]
     },
     "execution_count": 11,
     "metadata": {},
     "output_type": "execute_result"
    }
   ],
   "source": [
    "pcov"
   ]
  },
  {
   "cell_type": "code",
   "execution_count": 47,
   "id": "86b2d522",
   "metadata": {},
   "outputs": [
    {
     "data": {
      "text/plain": [
       "[<matplotlib.lines.Line2D at 0x18b33ca5430>]"
      ]
     },
     "execution_count": 47,
     "metadata": {},
     "output_type": "execute_result"
    },
    {
     "data": {
      "image/png": "[encoded data removed]",
      "text/plain": [
       "<Figure size 432x288 with 1 Axes>"
      ]
     },
     "metadata": {
      "needs_background": "light"
     },
     "output_type": "display_data"
    }
   ],
   "source": [
    "plt.errorbar(x,y,yerr=e,fmt='.')\n",
    "xfine=np.linspace(1880.0,2016.0,274)\n",
    "plt.plot(xfine,line(xfine,popt[0],popt[1]),'r-')\n"
   ]
  },
  {
   "cell_type": "code",
   "execution_count": 48,
   "id": "34f71bdc",
   "metadata": {},
   "outputs": [],
   "source": [
    "import math"
   ]
  },
  {
   "cell_type": "code",
   "execution_count": 58,
   "id": "ae588743",
   "metadata": {},
   "outputs": [
    {
     "data": {
      "text/plain": [
       "array([4.04423662, 4.47626621, 3.76368614, 3.54249596, 2.66525554,\n",
       "       2.66023755, 2.22890692, 2.12823265, 1.9865438 , 2.01876371,\n",
       "       1.7530294 , 1.8605292 , 2.42417154, 2.47573991, 2.05508121,\n",
       "       2.07310025, 1.57444999, 1.5655482 , 1.91247819, 2.18416089,\n",
       "       1.92558978, 2.01876371, 2.17572092, 2.35672075, 1.7505372 ,\n",
       "       1.61272207, 1.93032214, 1.96522302, 1.87240699, 2.01876371,\n",
       "       1.59990669, 1.61272207, 1.08477115, 1.06153824, 1.15238946,\n",
       "       1.06153824, 2.04257374, 2.07310025, 1.46772079, 1.29921787,\n",
       "       0.73729972, 0.82045662, 1.20753487, 1.21680792, 0.79198032,\n",
       "       0.72907371, 0.63230794, 0.52040345, 0.56072666, 0.49790101,\n",
       "       1.00839759, 1.09916188, 1.10983912, 1.13758138, 0.6638642 ,\n",
       "       0.64485347, 0.90443758, 1.02471045, 0.8840286 , 0.75873882,\n",
       "       0.49701746, 0.41584974, 0.32265994, 0.30290035, 0.34496233,\n",
       "       0.34653212, 0.79259909, 0.67213103, 0.4000543 , 0.31664842,\n",
       "       0.67185431, 0.75873882, 0.57691245, 0.5926859 , 0.49196179,\n",
       "       0.37959923, 0.29285667, 0.24609779, 0.43085031, 0.39732656,\n",
       "       0.19486515, 0.20635   , 0.20133797, 0.19399187, 0.19324984,\n",
       "       0.19289898, 0.3695134 , 0.34653212, 0.21280516, 0.20419784,\n",
       "       0.19464308, 0.19803278, 0.21964235, 0.20919154, 0.26964387,\n",
       "       0.24609779, 0.19223872, 0.19289898, 0.19570499, 0.19399187,\n",
       "       0.19342467, 0.19094858, 0.19457049, 0.20179347, 0.23212877,\n",
       "       0.28317217, 0.28597151, 0.23712483, 0.26512148, 0.21498108,\n",
       "       0.25334978, 0.22894773, 0.20940784, 0.19399187, 0.23678247,\n",
       "       0.21498108, 0.28932142, 0.24609779, 0.22801996, 0.22156648,\n",
       "       0.28196444, 0.28317217, 0.22150159, 0.23253466, 0.20973853,\n",
       "       0.21785063, 0.2722394 , 0.2558666 , 0.21187119, 0.20419784,\n",
       "       0.19567746, 0.19289898, 0.24251004, 0.26052961, 0.19125454,\n",
       "       0.19803278, 0.19093199, 0.19803278, 0.19092838, 0.19094858,\n",
       "       0.1985437 , 0.19116716, 0.38133615, 0.30290035, 0.65241096,\n",
       "       0.54370175, 0.3577435 , 0.31664842, 0.35256991, 0.26643126,\n",
       "       0.42734566, 0.30290035, 0.27167158, 0.2558666 , 0.19548695,\n",
       "       0.19218159, 0.1923568 , 0.19218159, 0.19501498, 0.19218159,\n",
       "       0.20808052, 0.23253466, 0.22420991, 0.28317217, 0.20242621,\n",
       "       0.22479472, 0.34403526, 0.42445839, 0.20990304, 0.25040211,\n",
       "       0.19265883, 0.19803278, 0.20191858, 0.23253466, 0.44113372,\n",
       "       0.5789154 , 0.2578199 , 0.29568723, 0.23636229, 0.29568723,\n",
       "       0.19235786, 0.20179347, 0.23100283, 0.29568723, 0.35146029,\n",
       "       0.40557651, 0.30304329, 0.33800752, 0.32368573, 0.40557651,\n",
       "       0.23132294, 0.29568723, 0.29633387, 0.38749048, 0.28995697,\n",
       "       0.30899814, 0.29363134, 0.37020031, 0.47429479, 0.6846853 ,\n",
       "       0.43027814, 0.53080556, 0.19277695, 0.20635   , 0.22442861,\n",
       "       0.24107046, 0.477703  , 0.53080556, 0.50525456, 0.55446255,\n",
       "       0.78214488, 0.80318884, 0.62730478, 0.74234536, 0.76056522,\n",
       "       0.90042294, 0.80194077, 0.77236917, 0.60570432, 0.6846853 ,\n",
       "       0.30546074, 0.32310491, 0.43047337, 0.40557651, 0.74056924,\n",
       "       0.80318884, 0.52363349, 0.55446255, 0.3478048 , 0.38749048,\n",
       "       0.22605436, 0.23253466, 0.1925446 , 0.19803278, 0.21017881,\n",
       "       0.24107046, 0.36119453, 0.40557651, 0.21310538, 0.20635   ,\n",
       "       0.20073913, 0.23253466, 0.32165842, 0.29568723, 0.40705777,\n",
       "       0.4646097 , 0.48848495, 0.44413612, 0.45673599, 0.38749048,\n",
       "       0.35889758, 0.33800752, 0.49022852, 0.60416409, 0.20105781,\n",
       "       0.21170239, 0.23020815, 0.28317217, 0.3519402 , 0.50794442,\n",
       "       0.28353604, 0.4646097 , 0.29894035, 0.48587913, 0.28426594,\n",
       "       0.40557651, 0.22657973, 0.29568723, 0.19208563, 0.20179347,\n",
       "       0.1918301 , 0.21170239, 0.20881983, 0.28317217])"
      ]
     },
     "execution_count": 58,
     "metadata": {},
     "output_type": "execute_result"
    }
   ],
   "source": [
    "temperature2=temperature*math.cos(70)*(2*math.pi*temperature+.6)+.2\n",
    "temperature2"
   ]
  },
  {
   "cell_type": "code",
   "execution_count": 60,
   "id": "d763b34a",
   "metadata": {},
   "outputs": [
    {
     "data": {
      "text/plain": [
       "[<matplotlib.lines.Line2D at 0x18b34f27430>]"
      ]
     },
     "execution_count": 60,
     "metadata": {},
     "output_type": "execute_result"
    },
    {
     "data": {
      "image/png": "[encoded data removed]",
      "text/plain": [
       "<Figure size 432x288 with 1 Axes>"
      ]
     },
     "metadata": {
      "needs_background": "light"
     },
     "output_type": "display_data"
    }
   ],
   "source": [
    "plt.errorbar(date,temperature2,fmt='.')\n",
    "xfine=np.linspace(1880.,2016.,274)\n",
    "plt.plot(xfine,line(xfine,*popt),'r-')"
   ]
  },
  {
   "cell_type": "code",
   "execution_count": null,
   "id": "3f465757",
   "metadata": {},
   "outputs": [],
   "source": []
  }
 ],
 "metadata": {
  "kernelspec": {
   "display_name": "Python 3 (ipykernel)",
   "language": "python",
   "name": "python3"
  },
  "language_info": {
   "codemirror_mode": {
    "name": "ipython",
    "version": 3
   },
   "file_extension": ".py",
   "mimetype": "text/x-python",
   "name": "python",
   "nbconvert_exporter": "python",
   "pygments_lexer": "ipython3",
   "version": "3.9.7"
  }
 },
 "nbformat": 4,
 "nbformat_minor": 5
}
